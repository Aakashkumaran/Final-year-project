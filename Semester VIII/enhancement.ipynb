{
 "cells": [
  {
   "cell_type": "code",
   "execution_count": 1,
   "metadata": {},
   "outputs": [],
   "source": [
    "import os\n",
    "import cv2\n",
    "\n",
    "def apply_clahe(input_folder, output_folder, clip_limit=2.0, grid_size=(8, 8)):\n",
    "    # Create output folder if it doesn't exist\n",
    "    os.makedirs(output_folder, exist_ok=True)\n",
    "\n",
    "    # Get a list of image files in the input folder\n",
    "    image_files = [f for f in os.listdir(input_folder) if f.lower().endswith(('.png', '.jpg', '.jpeg'))]\n",
    "\n",
    "    # Apply CLAHE to each image\n",
    "    for image_file in image_files:\n",
    "        # Read the image\n",
    "        image_path = os.path.join(input_folder, image_file)\n",
    "        img = cv2.imread(image_path, cv2.IMREAD_COLOR)\n",
    "\n",
    "        # Convert the image to LAB color space\n",
    "        lab = cv2.cvtColor(img, cv2.COLOR_BGR2LAB)\n",
    "\n",
    "        # Split the LAB image into L, A, and B channels\n",
    "        l, a, b = cv2.split(lab)\n",
    "\n",
    "        # Apply CLAHE to the L channel\n",
    "        clahe = cv2.createCLAHE(clipLimit=clip_limit, tileGridSize=grid_size)\n",
    "        cl = clahe.apply(l)\n",
    "\n",
    "        # Merge the enhanced L channel with the original A and B channels\n",
    "        enhanced_lab = cv2.merge((cl, a, b))\n",
    "\n",
    "        # Convert the LAB image back to BGR color space\n",
    "        enhanced_img = cv2.cvtColor(enhanced_lab, cv2.COLOR_LAB2BGR)\n",
    "\n",
    "        # Save the enhanced image to the output folder\n",
    "        output_path = os.path.join(output_folder, f'enhanced_{image_file}')\n",
    "        cv2.imwrite(output_path, enhanced_img)\n"
   ]
  },
  {
   "cell_type": "code",
   "execution_count": 2,
   "metadata": {},
   "outputs": [],
   "source": [
    "\n",
    "\n",
    "covidIP = \"C:/Users/HP/Desktop/Taboo/Final Year Project/Final-Year-Project/Dataset/masked/COVID-19_Radiography_Dataset/Covid/segmented/Covid\"\n",
    "covidOP =\"C:/Users/HP/Desktop/Taboo/Final Year Project/Final-Year-Project/Dataset/masked/COVID-19_Radiography_Dataset/Covid/segmented/enhanced\"\n",
    "\n",
    "# Set CLAHE parameters\n",
    "clip_limit = 2.0\n",
    "grid_size = (8, 8)\n",
    "\n",
    "# Apply CLAHE to the images in the input folder and save the enhanced images to the output folder\n",
    "apply_clahe(covidIP, covidOP, clip_limit=clip_limit, grid_size=grid_size)\n"
   ]
  },
  {
   "cell_type": "code",
   "execution_count": 5,
   "metadata": {},
   "outputs": [],
   "source": [
    "bacterialIP = \"C:/Users/HP/Desktop/Taboo/Final Year Project/Final-Year-Project/Dataset/masked/COVID-19_Radiography_Dataset/Bacterial/segmented/Bacterial\"\n",
    "bacterialOP =\"C:/Users/HP/Desktop/Taboo/Final Year Project/Final-Year-Project/Dataset/masked/COVID-19_Radiography_Dataset/Bacterial/segmented/enhanced\"\n",
    "apply_clahe(bacterialIP, bacterialOP, clip_limit=clip_limit, grid_size=grid_size)\n"
   ]
  },
  {
   "cell_type": "code",
   "execution_count": 6,
   "metadata": {},
   "outputs": [],
   "source": [
    "HealthyIP = \"C:/Users/HP/Desktop/Taboo/Final Year Project/Final-Year-Project/Dataset/masked/COVID-19_Radiography_Dataset/Healthy/segmented/Healthy\"\n",
    "HealthyOP =\"C:/Users/HP/Desktop/Taboo/Final Year Project/Final-Year-Project/Dataset/masked/COVID-19_Radiography_Dataset/Healthy/segmented/enhanced\"\n",
    "apply_clahe(HealthyIP, HealthyOP, clip_limit=clip_limit, grid_size=grid_size)"
   ]
  },
  {
   "cell_type": "code",
   "execution_count": null,
   "metadata": {},
   "outputs": [],
   "source": [
    "ViralIP = \"C:/Users/HP/Desktop/Taboo/Final Year Project/Final-Year-Project/Dataset/masked/COVID-19_Radiography_Dataset/Viral/segmented/Viral\"\n",
    "ViralOP =\"C:/Users/HP/Desktop/Taboo/Final Year Project/Final-Year-Project/Dataset/masked/COVID-19_Radiography_Dataset/Viral/segmented/enhanced\"\n",
    "apply_clahe(ViralIP, ViralOP, clip_limit=clip_limit, grid_size=grid_size)"
   ]
  }
 ],
 "metadata": {
  "kernelspec": {
   "display_name": "base",
   "language": "python",
   "name": "python3"
  },
  "language_info": {
   "codemirror_mode": {
    "name": "ipython",
    "version": 3
   },
   "file_extension": ".py",
   "mimetype": "text/x-python",
   "name": "python",
   "nbconvert_exporter": "python",
   "pygments_lexer": "ipython3",
   "version": "3.9.12"
  }
 },
 "nbformat": 4,
 "nbformat_minor": 2
}
